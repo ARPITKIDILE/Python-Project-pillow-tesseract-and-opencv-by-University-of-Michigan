{
 "cells": [
  {
   "cell_type": "markdown",
   "metadata": {},
   "source": [
    "# The Project #\n",
    "1. This is a project with minimal scaffolding. Expect to use the the discussion forums to gain insights! It’s not cheating to ask others for opinions or perspectives!\n",
    "2. Be inquisitive, try out new things.\n",
    "3. Use the previous modules for insights into how to complete the functions! You'll have to combine Pillow, OpenCV, and Pytesseract\n",
    "4. There are hints provided in Coursera, feel free to explore the hints if needed. Each hint provide progressively more details on how to solve the issue. This project is intended to be comprehensive and difficult if you do it without the hints.\n",
    "\n",
    "### The Assignment ###\n",
    "Take a [ZIP file](https://en.wikipedia.org/wiki/Zip_(file_format)) of images and process them, using a [library built into python](https://docs.python.org/3/library/zipfile.html) that you need to learn how to use. A ZIP file takes several different files and compresses them, thus saving space, into one single file. The files in the ZIP file we provide are newspaper images (like you saw in week 3). Your task is to write python code which allows one to search through the images looking for the occurrences of keywords and faces. E.g. if you search for \"pizza\" it will return a contact sheet of all of the faces which were located on the newspaper page which mentions \"pizza\". This will test your ability to learn a new ([library](https://docs.python.org/3/library/zipfile.html)), your ability to use OpenCV to detect faces, your ability to use tesseract to do optical character recognition, and your ability to use PIL to composite images together into contact sheets.\n",
    "\n",
    "Each page of the newspapers is saved as a single PNG image in a file called [images.zip](./readonly/images.zip). These newspapers are in english, and contain a variety of stories, advertisements and images. Note: This file is fairly large (~200 MB) and may take some time to work with, I would encourage you to use [small_img.zip](./readonly/small_img.zip) for testing.\n",
    "\n",
    "Here's an example of the output expected. Using the [small_img.zip](./readonly/small_img.zip) file, if I search for the string \"Christopher\" I should see the following image:\n",
    "![Christopher Search](./readonly/small_project.png)\n",
    "If I were to use the [images.zip](./readonly/images.zip) file and search for \"Mark\" I should see the following image (note that there are times when there are no faces on a page, but a word is found!):\n",
    "![Mark Search](./readonly/large_project.png)\n",
    "\n",
    "Note: That big file can take some time to process - for me it took nearly ten minutes! Use the small one for testing."
   ]
  },
  {
   "cell_type": "code",
   "execution_count": null,
   "metadata": {},
   "outputs": [],
   "source": [
    "import zipfile\n",
    "\n",
    "from PIL import Image\n",
    "from IPython.display import display\n",
    "import pytesseract\n",
    "import cv2 as cv\n",
    "import numpy as np\n",
    "import os\n",
    "\n",
    "face_cascade = cv.CascadeClassifier('readonly/haarcascade_frontalface_default.xml')\n",
    "\n",
    "with zipfile.ZipFile(\"readonly/images.zip\", \"r\") as zip_ref:\n",
    "    zip_ref.extractall(\"extracted/\")\n",
    "    \n",
    "def scan_text(page):\n",
    "    page_img = Image.open(page)\n",
    "    text_str = pytesseract.image_to_string(page_img).lower()\n",
    "    return text_str.split()\n",
    "\n",
    "def find_faces(page):\n",
    "    cv_page = cv.imread(page)\n",
    "    gray_page = cv.cvtColor(cv_page, cv.COLOR_BGR2GRAY)\n",
    "    faces = face_cascade.detectMultiScale(gray_page, scaleFactor=1.3, minNeighbors=5, minSize=(25,25))\n",
    "    contact_sheet = None    \n",
    "    if len(faces) > 0:\n",
    "        PIL_page = Image.open(page)\n",
    "        contact_sheet = Image.new(PIL_page.mode, (100*5, 100*(len(faces)//5+1)))\n",
    "        c_x = 0\n",
    "        c_y = 0\n",
    "        for x, y, w, h in faces:\n",
    "            face = PIL_page.crop((x, y, x+w, y+h))\n",
    "            contact_sheet.paste(face.resize((100,100), Image.ANTIALIAS), (c_x,c_y))\n",
    "            if c_x == 400:\n",
    "                c_x = 0\n",
    "                c_y += 100\n",
    "            else:\n",
    "                c_x += 100\n",
    "    return contact_sheet\n",
    "\n",
    "def search(tag):\n",
    "    print(\"Search tag: \" + tag)\n",
    "    for page in os.listdir(\"extracted/\"):\n",
    "        page_path = \"extracted/\" + page\n",
    "        if tag.lower() in scan_text(page_path):\n",
    "            print(\"Results found in file \" + page)\n",
    "            if find_faces(page_path) is None:\n",
    "                print(\"But there were no faces in that file!\")\n",
    "            else:\n",
    "                display(find_faces(page_path))\n",
    "                \n",
    "search(\"Christopher\")\n",
    "search(\"Mark\")\n"
   ]
  },
  {
   "cell_type": "code",
   "execution_count": null,
   "metadata": {},
   "outputs": [],
   "source": []
  }
 ],
 "metadata": {
  "anaconda-cloud": {},
  "kernelspec": {
   "display_name": "Python 3",
   "language": "python",
   "name": "python3"
  },
  "language_info": {
   "codemirror_mode": {
    "name": "ipython",
    "version": 3
   },
   "file_extension": ".py",
   "mimetype": "text/x-python",
   "name": "python",
   "nbconvert_exporter": "python",
   "pygments_lexer": "ipython3",
   "version": "3.7.1"
  }
 },
 "nbformat": 4,
 "nbformat_minor": 2
}
